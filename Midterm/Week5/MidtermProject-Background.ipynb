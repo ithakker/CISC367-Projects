{
 "cells": [
  {
   "cell_type": "markdown",
   "id": "caring-sunday",
   "metadata": {},
   "source": [
    "# Midterm Ideas"
   ]
  },
  {
   "cell_type": "markdown",
   "id": "enormous-prompt",
   "metadata": {},
   "source": [
    "*Ishaan Thakker*"
   ]
  },
  {
   "cell_type": "markdown",
   "id": "quarterly-handy",
   "metadata": {},
   "source": [
    "**Problem:**"
   ]
  },
  {
   "cell_type": "markdown",
   "id": "mediterranean-transportation",
   "metadata": {},
   "source": [
    "Climate change has been recognized as the foremost environmental problem of the twenty-first century and has become a subject of considerable debate. It is predicted to lead to adverse, irreversible impacts oil earth and the ecosystem as a whole.<sup>2</sup> I plan to explore the topic of electric vehicle adoption in the US and compare the data to see how we rank against different countries. I also plan to look at data regarding rebates and how the government is getting people to switch to EVs."
   ]
  },
  {
   "cell_type": "markdown",
   "id": "qualified-furniture",
   "metadata": {},
   "source": [
    "**Questions to answer:**"
   ]
  },
  {
   "cell_type": "markdown",
   "id": "tired-verse",
   "metadata": {},
   "source": [
    "* Why aren't more Americans switching to electric vehicles?\n",
    "* How many people have taken advantage of electric vehicle rebates?\n",
    "* What age group tends to drive EV's the most?\n",
    "* How does the US rank compared to other countries when it comes to EVs?"
   ]
  },
  {
   "cell_type": "markdown",
   "id": "modern-operation",
   "metadata": {},
   "source": [
    "**Justification:**"
   ]
  },
  {
   "cell_type": "markdown",
   "id": "prescription-master",
   "metadata": {},
   "source": [
    "This problem is important because climate change is a increasingly important topic in todays society. If more people try to realize this and take advantage of benefits provided by the government soon enough a majority of the cars bought will be electric. By exploring what age groups own EVs the most, the data can be used to target specifc audiences who may not be fully inclined to purchasing EVs as other age groups. I will be comparing the EV usage in the US to other parts of the world. This will shed light on where we rank when it comes to EV adoption. There are also many benefits to driving electric vehicles including reduced emissions, save costs for gas, and can improve public health and ecological damage.<sup>1</sup> "
   ]
  },
  {
   "cell_type": "markdown",
   "id": "advisory-brick",
   "metadata": {},
   "source": [
    "**Datasets:**"
   ]
  },
  {
   "cell_type": "markdown",
   "id": "supposed-madness",
   "metadata": {},
   "source": [
    "1. [Registered Vehicles by Fuel Type](https://data.delaware.gov/Transportation/Registered-Vehicles-by-Fuel-Type/ity3-3688)\n",
    "2. [State Rebates for Alternative Fuel Vehicles](https://data.delaware.gov/Energy-and-Environment/State-Rebates-for-Alternative-Fuel-Vehicles/8z8z-di7f)"
   ]
  },
  {
   "cell_type": "markdown",
   "id": "incoming-issue",
   "metadata": {},
   "source": [
    "**Ethical Concerns:**"
   ]
  },
  {
   "cell_type": "markdown",
   "id": "later-revelation",
   "metadata": {},
   "source": [
    "Some ethical concerns that I have is that there is a large number of people who still believe that climate change is a hoax or that nothing can be done to change the environment but this is certainly not true. Another concern is that electric cars only made up only about 2 percent of new passenger vehicle sales in 2020 and this is cause for conern because more companies should start to produce electric cars. If known brands start switching over to electric car manufacturing then more people are inclined to switch.<sup>3</sup> I plan to explore more concenrs as I continue research."
   ]
  },
  {
   "cell_type": "markdown",
   "id": "likely-trustee",
   "metadata": {},
   "source": [
    "**References**"
   ]
  },
  {
   "cell_type": "markdown",
   "id": "supported-volume",
   "metadata": {},
   "source": [
    "<sup>1</sup> \n",
    "https://www.energy.gov/eere/electricvehicles/electric-vehicle-benefits#:~:text=They%20can%20reduce%20emissions%20and,and%20have%20very%20good%20torque.&text=But%20EVs%20provide%20more%20than%20just%20individual%20benefits\n",
    "\n",
    "<sup>2</sup>\n",
    "https://www.researchgate.net/publication/215652750_Global_Climate_Change_A_cause_of_concern\n",
    "\n",
    "<sup>3</sup>\n",
    "https://insideclimatenews.org/news/21122020/electric-vehicles-in-2020/"
   ]
  },
  {
   "cell_type": "code",
   "execution_count": null,
   "id": "judicial-bryan",
   "metadata": {},
   "outputs": [],
   "source": []
  }
 ],
 "metadata": {
  "kernelspec": {
   "display_name": "Python 3",
   "language": "python",
   "name": "python3"
  },
  "language_info": {
   "codemirror_mode": {
    "name": "ipython",
    "version": 3
   },
   "file_extension": ".py",
   "mimetype": "text/x-python",
   "name": "python",
   "nbconvert_exporter": "python",
   "pygments_lexer": "ipython3",
   "version": "3.9.1"
  }
 },
 "nbformat": 4,
 "nbformat_minor": 5
}
