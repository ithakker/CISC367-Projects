{
 "cells": [
  {
   "cell_type": "markdown",
   "id": "lesbian-liabilities",
   "metadata": {},
   "source": [
    "# Midterm Ideas"
   ]
  },
  {
   "cell_type": "markdown",
   "id": "talented-granny",
   "metadata": {},
   "source": [
    "*Ishaan Thakker*"
   ]
  },
  {
   "cell_type": "markdown",
   "id": "cleared-charger",
   "metadata": {},
   "source": [
    "**Problem:**"
   ]
  },
  {
   "cell_type": "markdown",
   "id": "better-bulletin",
   "metadata": {},
   "source": [
    "Climate change has been recognized as the foremost environmental problem of the twenty-first century and has become a subject of considerable debate. It is predicted to lead to adverse, irreversible impacts oil earth and the ecosystem as a whole.<sup>2</sup> I plan to explore the topic of electric vehicle adoption in Delaware and compare the data to different parts of the country to see where we rank. I also plan to look at data regarding rebates and how the government is getting people to switch to EVs"
   ]
  },
  {
   "cell_type": "markdown",
   "id": "major-frequency",
   "metadata": {},
   "source": [
    "**Questions to answer:**"
   ]
  },
  {
   "cell_type": "markdown",
   "id": "thick-printer",
   "metadata": {},
   "source": [
    "* Why aren't more Delawareans switching to electric vehicles?\n",
    "* How many people have taken advantage of electric vehicle rebates?\n",
    "* What age group tends to drive EV's the most?\n",
    "* How does Delaware rank compared to other states when it comes to EVs"
   ]
  },
  {
   "cell_type": "markdown",
   "id": "gentle-essay",
   "metadata": {},
   "source": [
    "**Justification:**"
   ]
  },
  {
   "cell_type": "markdown",
   "id": "manual-stanley",
   "metadata": {},
   "source": [
    "This problem is important because climate change is a increasingly important topic in todays society. If more people try to realize this and take advantage of benefits provided by the government soon enough a majority of the cars bought will be electric. By exploring what age groups own EVs the most, the data can be used to target specifc audiences who may not be fully inclined to purchasing EVs as other age groups. Geographical location is also important so I will be comparing the EV usage in Delaware to the rest of the country. There are also many benefits to driving electric vehicles including reduced emissions, save costs for gas, and can improve public health and ecological damage.<sup>1</sup> "
   ]
  },
  {
   "cell_type": "markdown",
   "id": "guilty-alignment",
   "metadata": {},
   "source": [
    "**Datasets:**"
   ]
  },
  {
   "cell_type": "markdown",
   "id": "supported-terrain",
   "metadata": {},
   "source": [
    "1. [Registered Vehicles by Fuel Type](https://data.delaware.gov/Transportation/Registered-Vehicles-by-Fuel-Type/ity3-3688)\n",
    "2. [State Rebates for Alternative Fuel Vehicles](https://data.delaware.gov/Energy-and-Environment/State-Rebates-for-Alternative-Fuel-Vehicles/8z8z-di7f)"
   ]
  },
  {
   "cell_type": "markdown",
   "id": "seasonal-judgment",
   "metadata": {},
   "source": [
    "**Ethical Concerns:**"
   ]
  },
  {
   "cell_type": "markdown",
   "id": "quality-cameroon",
   "metadata": {},
   "source": [
    "Some ethical concerns that I have is that there is a large number of people who still believe that climate change is a hoax or that nothing can be done to change the environment but this is certainly not true. Another concern is that electric cars only made up only about 2 percent of new passenger vehicle sales in 2020 and this is cause for conern because more companies should start to produce electric cars. If known brands start switching over to electric car manufacturing then more people are inclined to switch.Electric cars made up only about 2 percent of new passenger vehicle sales"
   ]
  },
  {
   "cell_type": "markdown",
   "id": "starting-whale",
   "metadata": {},
   "source": [
    "**References**"
   ]
  },
  {
   "cell_type": "markdown",
   "id": "square-suffering",
   "metadata": {},
   "source": [
    "<sup>1</sup> \n",
    "https://www.energy.gov/eere/electricvehicles/electric-vehicle-benefits#:~:text=They%20can%20reduce%20emissions%20and,and%20have%20very%20good%20torque.&text=But%20EVs%20provide%20more%20than%20just%20individual%20benefits\n",
    "<sup>2</sup>\n",
    "https://www.researchgate.net/publication/215652750_Global_Climate_Change_A_cause_of_concern"
   ]
  },
  {
   "cell_type": "code",
   "execution_count": null,
   "id": "forbidden-failure",
   "metadata": {},
   "outputs": [],
   "source": []
  }
 ],
 "metadata": {
  "kernelspec": {
   "display_name": "Python 3",
   "language": "python",
   "name": "python3"
  },
  "language_info": {
   "codemirror_mode": {
    "name": "ipython",
    "version": 3
   },
   "file_extension": ".py",
   "mimetype": "text/x-python",
   "name": "python",
   "nbconvert_exporter": "python",
   "pygments_lexer": "ipython3",
   "version": "3.9.1"
  }
 },
 "nbformat": 4,
 "nbformat_minor": 5
}
