{
 "cells": [
  {
   "cell_type": "markdown",
   "id": "moved-mexico",
   "metadata": {},
   "source": [
    "# Midterm Ideas"
   ]
  },
  {
   "cell_type": "markdown",
   "id": "instrumental-advertiser",
   "metadata": {},
   "source": [
    "*Ishaan Thakker*"
   ]
  },
  {
   "cell_type": "markdown",
   "id": "twelve-spencer",
   "metadata": {},
   "source": [
    "**Problem:**"
   ]
  },
  {
   "cell_type": "markdown",
   "id": "biblical-strength",
   "metadata": {},
   "source": [
    "If there is one thing that has increased dramatically during this pandemic, it is the increased exposure to the stock market for new investors. These new investors who sense a generational buying moment due to the pandemic do not have much background in this equity space.<sup>1</sup> The four major online brokers - Charles Schwab, TD Ameritrade, ETrade, and Robinhood saw new accounts grow as much as 170% in the first quarter of 2020.<sup>2</sup> Because of this, it is important for people to realize how to manage and mitigate risk when investing in the stock market. I plan to explore different stock tickers datasets to analyze the risk when investing in particular stocks."
   ]
  },
  {
   "cell_type": "markdown",
   "id": "dramatic-technician",
   "metadata": {},
   "source": [
    "**Questions to answer:**"
   ]
  },
  {
   "cell_type": "markdown",
   "id": "earlier-compilation",
   "metadata": {},
   "source": [
    "* What is the change in a stocks price over time?\n",
    "* What do terms such as moving average and volatility mean?\n",
    "* How can you decrease risk and increase return with stocks?\n",
    "* What is the correlation between daily returns of different stocks?\n",
    "* How much value do we put at risk when investing in a particular company?"
   ]
  },
  {
   "cell_type": "markdown",
   "id": "suitable-commander",
   "metadata": {},
   "source": [
    "**Justification:**"
   ]
  },
  {
   "cell_type": "markdown",
   "id": "affiliated-queue",
   "metadata": {},
   "source": [
    "This problem is important because risk management helps cut down losses and this is real peoples savings that are at stake. It is important for people to learn and realize that doing research can help them make important decisions regarding their money. If people can have a basic set of knowledge they will be able to expand on that and eventually can do their own due diligence. "
   ]
  },
  {
   "cell_type": "markdown",
   "id": "elementary-michael",
   "metadata": {},
   "source": [
    "**Datasets:**"
   ]
  },
  {
   "cell_type": "markdown",
   "id": "saving-andrews",
   "metadata": {},
   "source": [
    "1. [Example Ticker: AAPL](https://finance.yahoo.com/quote/AAPL/history?p=AAPL)\n",
    "2. [Example Ticker: S&P 500](https://finance.yahoo.com/quote/%5EGSPC/history?p=%5EGSPC)\n",
    "3. Pandas data-reader"
   ]
  },
  {
   "cell_type": "markdown",
   "id": "fourth-fiction",
   "metadata": {},
   "source": [
    "**Ethical Concerns:**"
   ]
  },
  {
   "cell_type": "markdown",
   "id": "hydraulic-narrow",
   "metadata": {},
   "source": [
    "The ethical concerns relating to this problem are actually quite significant. First, people should never take anyones research and base it as their own when deciding to invest. It is important to learn key terms in the market before starting to invest. The research I will be doing only applies to my understand of stocks based on prior experience. That is not to say that people should not view my research it is simply to make sure each person does their own due diligence. Second, as I am sure most people are aware of the trading frenzy that went on with retail stocks such as GameStop (GME) it is **essential** that the market is never treated like a casino. Reddit fueled investing has spoiled the idea that stocks are an easy way to make \"quick money\". This is absolutely not how it works and my research will create a general idea of different terms and correlation between companies. I plan to look explore a little into these retail stocks which took over the market and explain how the risk in investing in them is far beyond than what the actual market brings."
   ]
  },
  {
   "cell_type": "markdown",
   "id": "desirable-berkeley",
   "metadata": {},
   "source": [
    "**References**"
   ]
  },
  {
   "cell_type": "markdown",
   "id": "hairy-ensemble",
   "metadata": {},
   "source": [
    "<sup>1</sup> \n",
    "[Young investors pile into stocks, seeing ‘generational-buying moment’ instead of risk](https://www.cnbc.com/2020/05/12/young-investors-pile-into-stocks-seeing-generational-buying-moment-instead-of-risk.html)\n",
    "\n",
    "<sup>2</sup>\n",
    "[How Robinhood and Covid opened the floodgates for 13 million amateur stock traders](https://www.researchgate.net/publication/215652750_Global_Climate_Change_A_cause_of_concern)"
   ]
  }
 ],
 "metadata": {
  "kernelspec": {
   "display_name": "Python 3",
   "language": "python",
   "name": "python3"
  },
  "language_info": {
   "codemirror_mode": {
    "name": "ipython",
    "version": 3
   },
   "file_extension": ".py",
   "mimetype": "text/x-python",
   "name": "python",
   "nbconvert_exporter": "python",
   "pygments_lexer": "ipython3",
   "version": "3.9.1"
  }
 },
 "nbformat": 4,
 "nbformat_minor": 5
}
