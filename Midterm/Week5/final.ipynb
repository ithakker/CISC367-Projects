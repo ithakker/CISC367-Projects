{
 "cells": [
  {
   "cell_type": "markdown",
   "id": "changed-security",
   "metadata": {},
   "source": [
    "# CISC 367 Midterm Final Notebook"
   ]
  },
  {
   "cell_type": "markdown",
   "id": "directed-martial",
   "metadata": {},
   "source": [
    "<em> Ishaan Thakker </em>"
   ]
  }
 ],
 "metadata": {
  "kernelspec": {
   "display_name": "Python 3",
   "language": "python",
   "name": "python3"
  },
  "language_info": {
   "codemirror_mode": {
    "name": "ipython",
    "version": 3
   },
   "file_extension": ".py",
   "mimetype": "text/x-python",
   "name": "python",
   "nbconvert_exporter": "python",
   "pygments_lexer": "ipython3",
   "version": "3.9.1"
  }
 },
 "nbformat": 4,
 "nbformat_minor": 5
}
