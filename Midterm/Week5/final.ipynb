{
 "cells": [
  {
   "cell_type": "markdown",
   "id": "considerable-coating",
   "metadata": {},
   "source": [
    "# CISC 367 Midterm Final Notebook"
   ]
  },
  {
   "cell_type": "markdown",
   "id": "selective-quantity",
   "metadata": {},
   "source": [
    "<em> Ishaan Thakker </em>"
   ]
  },
  {
   "cell_type": "markdown",
   "id": "vulnerable-shopping",
   "metadata": {},
   "source": [
    "### Introduction"
   ]
  },
  {
   "cell_type": "markdown",
   "id": "legislative-swedish",
   "metadata": {},
   "source": [
    "If there is one thing that has increased dramatically during this pandemic, it is the increased exposure to the stock market for new investors. These new investors who sense a generational buying moment due to the pandemic do not have much background in this equity space.<sup>1</sup> The four major online brokers - Charles Schwab, TD Ameritrade, ETrade, and Robinhood saw new accounts grow as much as 170% in the first quarter of 2020.<sup>2</sup> Because of this, it is important for people to realize how to manage and mitigate risk when investing in the stock market. I plan to explore different stock tickers datasets to analyze the risk when investing in particular stocks."
   ]
  },
  {
   "cell_type": "markdown",
   "id": "square-jackson",
   "metadata": {},
   "source": [
    "### Project Overview"
   ]
  },
  {
   "cell_type": "markdown",
   "id": "honest-shooting",
   "metadata": {},
   "source": [
    "As the stock market is very evoleved and complex world, there are obviously many different areas in which analysis can be done and the questions that can be answered are limitless. I plan to do an analysis on a variety of companies in both the technological sector and other sectors in the market."
   ]
  },
  {
   "cell_type": "markdown",
   "id": "interior-locking",
   "metadata": {},
   "source": [
    "First, some key terms:\n",
    "* Stock: A security that represents the ownership of a fraction of a corporation. Units of stocks are called \"shares\".\n",
    "* Volume: The amount of a security or asset that changes hands over some period of time, often over the course of a day.\n",
    "* Volatility: The measure of the dispertion of returns for a particular stock. The higher the volatility, the more riskier the stock, vice-versa.\n",
    "* Annual return: Return that an investment provides over a period of time, in this case, a year."
   ]
  },
  {
   "cell_type": "markdown",
   "id": "hazardous-resolution",
   "metadata": {},
   "source": [
    "Being involved in the stock market requires alot of patience. Benjamin Graham, known as the “father of value investing,” knew the importance of patience in investing. Patience and investing are actually natural partners. Investing is a long-term prospect, the benefits of which typically come after many years. Note that there is a significant difference between **trading** stocks and **buying** stock. This analysis will focus on buying stocks and their long term growth potential. If people can develop a basic understanding of risk analysis they will be in good hands when making investment decisions."
   ]
  },
  {
   "cell_type": "markdown",
   "id": "comprehensive-distance",
   "metadata": {},
   "source": [
    "### Ethics"
   ]
  },
  {
   "cell_type": "markdown",
   "id": "fifty-preference",
   "metadata": {},
   "source": [
    "The ethical concerns relating to this problem are actually quite significant. First, people should never take anyones research and base it as their own when deciding to invest. It is important to learn key terms in the market before starting to invest. The research I will be doing only applies to my understand of stocks based on prior experience. That is not to say that people should not view my research it is simply to make sure each person does their own due diligence. Second, as I am sure most people are aware of the trading frenzy that went on with retail stocks such as GameStop (GME) it is **essential** that the market is never treated like a casino. Reddit fueled investing has spoiled the idea that stocks are an easy way to make \"quick money\". This is absolutely not how it works and my research will create a general idea of different terms and correlation between companies. I plan to look explore a little into these retail stocks which took over the market and explain how the risk in investing in them is far beyond than what the actual market brings."
   ]
  },
  {
   "cell_type": "markdown",
   "id": "intelligent-torture",
   "metadata": {},
   "source": [
    "### Questions   "
   ]
  },
  {
   "cell_type": "markdown",
   "id": "genetic-affiliation",
   "metadata": {},
   "source": [
    "* How much value do we put at risk when investing in a particular company?\n",
    "    * What is the change in a particular stocks price over time?\n",
    "    * How can you decrease risk and increase return with a particular company?\n",
    "    * What is the correlation between daily returns and annual returns of a stock?\n",
    "    * When choosing between two companies, how can one be deemed a better investment?"
   ]
  },
  {
   "cell_type": "markdown",
   "id": "entitled-internet",
   "metadata": {},
   "source": [
    "### Imports:"
   ]
  },
  {
   "cell_type": "code",
   "execution_count": 5,
   "id": "found-audio",
   "metadata": {},
   "outputs": [],
   "source": [
    "import pandas as pd\n",
    "from scipy import stats\n",
    "import matplotlib.pyplot as plt\n",
    "\n",
    "#Apple \n",
    "AAPL = pd.read_csv(\"AAPL.csv\")\n",
    "#Microsoft \n",
    "MSFT = pd.read_csv(\"MSFT.csv\")\n",
    "#Tesla\n",
    "TSLA = pd.read_csv(\"TSLA.csv\")\n",
    "#Nike\n",
    "NKE = pd.read_csv(\"NKE.csv\")\n",
    "#Gamestop\n",
    "GME = pd.read_csv(\"GME.csv\")\n",
    "#S&P 500\n",
    "SP500 = pd.read_csv(\"constituents_csv.csv\")"
   ]
  },
  {
   "cell_type": "markdown",
   "id": "atlantic-excerpt",
   "metadata": {},
   "source": [
    "### Preparing Datasets"
   ]
  },
  {
   "cell_type": "code",
   "execution_count": 13,
   "id": "falling-cigarette",
   "metadata": {},
   "outputs": [],
   "source": [
    "AAPL.sort_values(by = ['Date'], inplace = True, ascending = False)\n",
    "MSFT.sort_values(by = ['Date'], inplace = True, ascending = False)\n",
    "TSLA.sort_values(by = ['Date'], inplace = True, ascending = False)\n",
    "NKE.sort_values(by = ['Date'], inplace = True, ascending = False)\n",
    "GME.sort_values(by = ['Date'], inplace = True, ascending = False)"
   ]
  },
  {
   "cell_type": "code",
   "execution_count": null,
   "id": "prostate-housing",
   "metadata": {},
   "outputs": [],
   "source": []
  }
 ],
 "metadata": {
  "kernelspec": {
   "display_name": "Python 3",
   "language": "python",
   "name": "python3"
  },
  "language_info": {
   "codemirror_mode": {
    "name": "ipython",
    "version": 3
   },
   "file_extension": ".py",
   "mimetype": "text/x-python",
   "name": "python",
   "nbconvert_exporter": "python",
   "pygments_lexer": "ipython3",
   "version": "3.9.1"
  }
 },
 "nbformat": 4,
 "nbformat_minor": 5
}
