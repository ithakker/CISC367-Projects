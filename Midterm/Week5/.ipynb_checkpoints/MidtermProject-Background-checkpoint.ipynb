{
 "cells": [
  {
   "cell_type": "markdown",
   "id": "signal-monkey",
   "metadata": {},
   "source": [
    "# CISC367 Midterm Project - Background"
   ]
  },
  {
   "cell_type": "markdown",
   "id": "coordinate-basin",
   "metadata": {},
   "source": [
    "*Ishaan Thakker*"
   ]
  },
  {
   "cell_type": "markdown",
   "id": "separate-glasgow",
   "metadata": {},
   "source": [
    "The problem that I will be exploring with this project is related to how switching to electric vehicles can help climate change and taking advantage of government rebates can help make this process cheaper. "
   ]
  },
  {
   "cell_type": "markdown",
   "id": "minimal-simple",
   "metadata": {},
   "source": [
    "## Questions to answer:"
   ]
  },
  {
   "cell_type": "markdown",
   "id": "subtle-transition",
   "metadata": {},
   "source": [
    "* Why aren't more Delawareans switching to electric vehicles?\n",
    "* How many people have taken advantage of electric vehicle rebates?\n",
    "* What age group tends to drive EV's the most?\n",
    "* How does Delaware rank compared to other states when it comes to EVs"
   ]
  },
  {
   "cell_type": "markdown",
   "id": "emotional-blocking",
   "metadata": {},
   "source": [
    "## Justification:"
   ]
  },
  {
   "cell_type": "markdown",
   "id": "adjusted-peter",
   "metadata": {},
   "source": [
    "This problem is important because climate change is a increasingly important topic in todays society. If more people try to realize this and take advantage of benefits provided by the government soon enough a majority of the cars bought will be electric. By exploring what age groups own EVs the most, the data can be used to target specifc audiences who may not be fully inclined to purchasing EVs as other age groups. Geographical location is also important so I will be comparing the EV usage in Delaware to the rest of the country. There are also many benefits to driving electric vehicles including reduced emissions, save costs for gas, and can improve public health and ecological damage. (https://www.energy.gov/eere/electricvehicles/electric-vehicle-benefits#:~:text=They%20can%20reduce%20emissions%20and,and%20have%20very%20good%20torque.&text=But%20EVs%20provide%20more%20than%20just%20individual%20benefits.) "
   ]
  },
  {
   "cell_type": "markdown",
   "id": "editorial-accordance",
   "metadata": {},
   "source": [
    "## Datasets:"
   ]
  },
  {
   "cell_type": "markdown",
   "id": "trying-shield",
   "metadata": {},
   "source": [
    "1. [Registered Vehicles by Fuel Type] (https://data.delaware.gov/Transportation/Registered-Vehicles-by-Fuel-Type/ity3-3688)\n",
    "2. [State Rebates for Alternative Fuel Vehicles] (https://data.delaware.gov/Energy-and-Environment/State-Rebates-for-Alternative-Fuel-Vehicles/8z8z-di7f)"
   ]
  },
  {
   "cell_type": "markdown",
   "id": "fluid-shoulder",
   "metadata": {},
   "source": [
    "## Ethical Concerns:"
   ]
  },
  {
   "cell_type": "markdown",
   "id": "fifty-gardening",
   "metadata": {},
   "source": [
    "One problem/ethical concern I may come across while analyzing the data is that I may not a large enough sample since electric vehicle adoption is fairly new and since the population of Delaware is fairly small compared to other states this might lead to inaccurate conclusions. Other than that for now I cannot think of many other concerns that I may have regarding this topic. As I analyze the data and topic further I will record the complications that I run into."
   ]
  },
  {
   "cell_type": "code",
   "execution_count": null,
   "id": "manufactured-marriage",
   "metadata": {},
   "outputs": [],
   "source": []
  }
 ],
 "metadata": {
  "kernelspec": {
   "display_name": "Python 3",
   "language": "python",
   "name": "python3"
  },
  "language_info": {
   "codemirror_mode": {
    "name": "ipython",
    "version": 3
   },
   "file_extension": ".py",
   "mimetype": "text/x-python",
   "name": "python",
   "nbconvert_exporter": "python",
   "pygments_lexer": "ipython3",
   "version": "3.9.1"
  }
 },
 "nbformat": 4,
 "nbformat_minor": 5
}
