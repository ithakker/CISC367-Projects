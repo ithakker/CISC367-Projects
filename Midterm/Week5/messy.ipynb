{
 "cells": [
  {
   "cell_type": "markdown",
   "id": "frozen-drink",
   "metadata": {},
   "source": [
    "# CISC 367 Midterm Messy Notebook"
   ]
  },
  {
   "cell_type": "markdown",
   "id": "greater-charles",
   "metadata": {},
   "source": [
    "<em> Ishaan Thakker </em>"
   ]
  },
  {
   "cell_type": "markdown",
   "id": "instant-theater",
   "metadata": {},
   "source": [
    "* When first coming up with exactly what I wanted my research to include one stock such as APPL and the S&P 500 index \n",
    "* Using this idea and inspiration from Dr. Bart I realized that it was probably a good idea to include many different companies and analyze them to possibly compare different parts of the market, where the risk is and isn't\n",
    "* "
   ]
  }
 ],
 "metadata": {
  "kernelspec": {
   "display_name": "Python 3",
   "language": "python",
   "name": "python3"
  },
  "language_info": {
   "codemirror_mode": {
    "name": "ipython",
    "version": 3
   },
   "file_extension": ".py",
   "mimetype": "text/x-python",
   "name": "python",
   "nbconvert_exporter": "python",
   "pygments_lexer": "ipython3",
   "version": "3.9.1"
  }
 },
 "nbformat": 4,
 "nbformat_minor": 5
}
