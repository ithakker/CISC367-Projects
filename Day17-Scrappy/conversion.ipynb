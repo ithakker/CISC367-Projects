{
 "cells": [
  {
   "cell_type": "code",
   "execution_count": 2,
   "id": "changing-hunger",
   "metadata": {},
   "outputs": [],
   "source": [
    "import pandas as pd"
   ]
  },
  {
   "cell_type": "code",
   "execution_count": 9,
   "id": "hundred-undergraduate",
   "metadata": {},
   "outputs": [
    {
     "data": {
      "text/html": [
       "<div>\n",
       "<style scoped>\n",
       "    .dataframe tbody tr th:only-of-type {\n",
       "        vertical-align: middle;\n",
       "    }\n",
       "\n",
       "    .dataframe tbody tr th {\n",
       "        vertical-align: top;\n",
       "    }\n",
       "\n",
       "    .dataframe thead th {\n",
       "        text-align: right;\n",
       "    }\n",
       "</style>\n",
       "<table border=\"1\" class=\"dataframe\">\n",
       "  <thead>\n",
       "    <tr style=\"text-align: right;\">\n",
       "      <th></th>\n",
       "      <th>Name</th>\n",
       "      <th>Symbol</th>\n",
       "      <th>Market Cap</th>\n",
       "      <th>Price</th>\n",
       "      <th>Circulating Supply</th>\n",
       "      <th>Volume</th>\n",
       "    </tr>\n",
       "  </thead>\n",
       "  <tbody>\n",
       "    <tr>\n",
       "      <th>0</th>\n",
       "      <td>Bitcoin</td>\n",
       "      <td>BTC</td>\n",
       "      <td>$1,054,724,231,638</td>\n",
       "      <td>$56,445.17</td>\n",
       "      <td>18,685,818</td>\n",
       "      <td>$97,129,269,434</td>\n",
       "    </tr>\n",
       "    <tr>\n",
       "      <th>1</th>\n",
       "      <td>Ethereum</td>\n",
       "      <td>ETH</td>\n",
       "      <td>$257,281,204,078</td>\n",
       "      <td>$2,227.07</td>\n",
       "      <td>115,524,748</td>\n",
       "      <td>$50,357,300,376</td>\n",
       "    </tr>\n",
       "    <tr>\n",
       "      <th>2</th>\n",
       "      <td>Binance Coin</td>\n",
       "      <td>BNB</td>\n",
       "      <td>$73,084,824,324</td>\n",
       "      <td>$476.33</td>\n",
       "      <td>153,432,897</td>\n",
       "      <td>$6,644,068,337</td>\n",
       "    </tr>\n",
       "    <tr>\n",
       "      <th>3</th>\n",
       "      <td>XRP</td>\n",
       "      <td>XRP</td>\n",
       "      <td>$63,551,166,371</td>\n",
       "      <td>$1.40</td>\n",
       "      <td>45,404,028,640</td>\n",
       "      <td>$22,077,607,975</td>\n",
       "    </tr>\n",
       "    <tr>\n",
       "      <th>4</th>\n",
       "      <td>Tether</td>\n",
       "      <td>USDT</td>\n",
       "      <td>$48,068,931,879</td>\n",
       "      <td>$0.9999</td>\n",
       "      <td>48,075,190,515</td>\n",
       "      <td>$223,297,545,140</td>\n",
       "    </tr>\n",
       "  </tbody>\n",
       "</table>\n",
       "</div>"
      ],
      "text/plain": [
       "           Name Symbol          Market Cap       Price Circulating Supply  \\\n",
       "0       Bitcoin    BTC  $1,054,724,231,638  $56,445.17         18,685,818   \n",
       "1      Ethereum    ETH    $257,281,204,078   $2,227.07        115,524,748   \n",
       "2  Binance Coin    BNB     $73,084,824,324     $476.33        153,432,897   \n",
       "3           XRP    XRP     $63,551,166,371       $1.40     45,404,028,640   \n",
       "4        Tether   USDT     $48,068,931,879     $0.9999     48,075,190,515   \n",
       "\n",
       "             Volume  \n",
       "0   $97,129,269,434  \n",
       "1   $50,357,300,376  \n",
       "2    $6,644,068,337  \n",
       "3   $22,077,607,975  \n",
       "4  $223,297,545,140  "
      ]
     },
     "execution_count": 9,
     "metadata": {},
     "output_type": "execute_result"
    }
   ],
   "source": [
    "df = pd.read_json(\"crypto/crypto.json\")\n",
    "df.head()"
   ]
  },
  {
   "cell_type": "code",
   "execution_count": 11,
   "id": "gothic-differential",
   "metadata": {},
   "outputs": [],
   "source": [
    "df.to_csv(\"crypto/crypto.csv\")"
   ]
  },
  {
   "cell_type": "code",
   "execution_count": null,
   "id": "alike-population",
   "metadata": {},
   "outputs": [],
   "source": []
  }
 ],
 "metadata": {
  "kernelspec": {
   "display_name": "Python 3",
   "language": "python",
   "name": "python3"
  },
  "language_info": {
   "codemirror_mode": {
    "name": "ipython",
    "version": 3
   },
   "file_extension": ".py",
   "mimetype": "text/x-python",
   "name": "python",
   "nbconvert_exporter": "python",
   "pygments_lexer": "ipython3",
   "version": "3.9.1"
  }
 },
 "nbformat": 4,
 "nbformat_minor": 5
}
