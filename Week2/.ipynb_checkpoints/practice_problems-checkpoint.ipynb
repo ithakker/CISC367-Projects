{
 "cells": [
  {
   "cell_type": "markdown",
   "id": "modern-nothing",
   "metadata": {},
   "source": [
    "1. Write a Python program to create a lambda function that adds 15 to a given number passed in as an argument, also create a lambda function that multiplies argument x with argument y and print the result."
   ]
  },
  {
   "cell_type": "code",
   "execution_count": 8,
   "id": "broadband-search",
   "metadata": {},
   "outputs": [],
   "source": [
    "add_15 = lambda x : x + 15\n",
    "multiplier = lambda x, y : x * y\n",
    "assert add_15(5) == 20\n",
    "assert multiplier(3, 4) == 12"
   ]
  },
  {
   "cell_type": "markdown",
   "id": "thirty-secretariat",
   "metadata": {},
   "source": [
    "2. Write a Python program to create a function that takes one argument, and that argument will be multiplied with an unknown given number."
   ]
  },
  {
   "cell_type": "code",
   "execution_count": 9,
   "id": "coastal-reply",
   "metadata": {},
   "outputs": [
    {
     "name": "stdout",
     "output_type": "stream",
     "text": [
      "30\n"
     ]
    }
   ],
   "source": [
    "def solve(number):\n",
    "    return lambda x : x * number\n",
    "answer = solve(3)\n",
    "print(answer(10))"
   ]
  },
  {
   "cell_type": "markdown",
   "id": "divided-recorder",
   "metadata": {},
   "source": [
    "3. Write a Python program to filter a list of integers using Lambda."
   ]
  },
  {
   "cell_type": "code",
   "execution_count": 10,
   "id": "constitutional-portable",
   "metadata": {},
   "outputs": [
    {
     "name": "stdout",
     "output_type": "stream",
     "text": [
      "[11, 12, 13, 14, 15, 16, 17, 18, 19, 20]\n",
      "[12, 14, 16, 18, 20]\n",
      "[11, 13, 15, 17, 19]\n"
     ]
    }
   ],
   "source": [
    "num_List = [11,12,13,14,15,16,17,18,19,20]\n",
    "print(num_List)\n",
    "evens = list(filter(lambda x: x % 2 == 0, num_List))\n",
    "print(evens)\n",
    "odds = list(filter(lambda x: x % 2 != 0, num_List))\n",
    "print(odds)"
   ]
  },
  {
   "cell_type": "markdown",
   "id": "aerial-stress",
   "metadata": {},
   "source": [
    "4. Write a Python program to square and cube every number in a given list of integers using Lambda."
   ]
  },
  {
   "cell_type": "code",
   "execution_count": 13,
   "id": "dirty-checkout",
   "metadata": {},
   "outputs": [
    {
     "name": "stdout",
     "output_type": "stream",
     "text": [
      "[1, 2, 3, 4, 5, 6, 7, 8, 9]\n",
      "[1, 4, 9, 16, 25, 36, 49, 64, 81]\n",
      "[1, 8, 27, 64, 125, 216, 343, 512, 729]\n"
     ]
    }
   ],
   "source": [
    "num_List = [1,2,3,4,5,6,7,8,9]\n",
    "print(num_List)\n",
    "square = list(map(lambda x: x ** 2, num_List))\n",
    "print(square)\n",
    "cube = list(map(lambda x: x ** 3, num_List))\n",
    "print(cube)"
   ]
  },
  {
   "cell_type": "markdown",
   "id": "reduced-instrumentation",
   "metadata": {},
   "source": [
    "5. Write a Python program to find if a given string starts with a given character using Lambda."
   ]
  },
  {
   "cell_type": "code",
   "execution_count": 15,
   "id": "contrary-mounting",
   "metadata": {},
   "outputs": [
    {
     "name": "stdout",
     "output_type": "stream",
     "text": [
      "True\n",
      "False\n"
     ]
    }
   ],
   "source": [
    "begins_With = lambda x: True if x.startswith('E') else False\n",
    "print(begins_With('Essay'))\n",
    "print(begins_With('Book'))"
   ]
  },
  {
   "cell_type": "markdown",
   "id": "restricted-drill",
   "metadata": {},
   "source": [
    "6. Write a Python program to add two given lists using map and lambda."
   ]
  },
  {
   "cell_type": "code",
   "execution_count": 17,
   "id": "nervous-naples",
   "metadata": {},
   "outputs": [
    {
     "name": "stdout",
     "output_type": "stream",
     "text": [
      "[1, 2, 3]\n",
      "[4, 5, 6]\n",
      "[5, 7, 9]\n"
     ]
    }
   ],
   "source": [
    "list1 = [1,2,3]\n",
    "list2 = [4,5,6]\n",
    "print(list1)\n",
    "print(list2)\n",
    "add_list = map(lambda x,y: x + y, list1, list2)\n",
    "print(list(add_list))"
   ]
  },
  {
   "cell_type": "markdown",
   "id": "formal-upper",
   "metadata": {},
   "source": [
    "7. Write a Python program to remove None value from a given list using lambda function."
   ]
  },
  {
   "cell_type": "code",
   "execution_count": 19,
   "id": "noted-debate",
   "metadata": {},
   "outputs": [
    {
     "name": "stdout",
     "output_type": "stream",
     "text": [
      "[1, 2, None, 4, 5, 6, None]\n",
      "[1, 2, 4, 5, 6]\n"
     ]
    }
   ],
   "source": [
    "def remove_none(numbers):\n",
    "    result = filter(lambda x: x is not None, numbers)\n",
    "    return list(result)\n",
    "numbers = [1,2,None,4,5,6,None]\n",
    "print(numbers)\n",
    "print(remove_none(numbers))"
   ]
  },
  {
   "cell_type": "code",
   "execution_count": null,
   "id": "equipped-pulse",
   "metadata": {},
   "outputs": [],
   "source": []
  }
 ],
 "metadata": {
  "kernelspec": {
   "display_name": "Python 3",
   "language": "python",
   "name": "python3"
  },
  "language_info": {
   "codemirror_mode": {
    "name": "ipython",
    "version": 3
   },
   "file_extension": ".py",
   "mimetype": "text/x-python",
   "name": "python",
   "nbconvert_exporter": "python",
   "pygments_lexer": "ipython3",
   "version": "3.9.1"
  }
 },
 "nbformat": 4,
 "nbformat_minor": 5
}
