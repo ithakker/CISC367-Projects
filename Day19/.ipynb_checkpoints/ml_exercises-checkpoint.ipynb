{
 "cells": [
  {
   "cell_type": "markdown",
   "id": "southeast-capitol",
   "metadata": {},
   "source": [
    "# Questions\n",
    "\n",
    "Fill in your name and the link to this file on your github.\n",
    "\n",
    "* Name: ___  \n",
    "* Link to github URL: ___"
   ]
  },
  {
   "cell_type": "code",
   "execution_count": 20,
   "id": "planned-wright",
   "metadata": {},
   "outputs": [],
   "source": [
    "import pandas as pd\n",
    "import numpy as np\n",
    "import scipy.stats as st\n",
    "import matplotlib.pyplot as plt\n",
    "import scipy\n",
    "\n",
    "from sklearn.naive_bayes import GaussianNB\n",
    "from sklearn import metrics\n",
    "from sklearn import datasets\n",
    "from sklearn.model_selection import train_test_split"
   ]
  },
  {
   "cell_type": "markdown",
   "id": "skilled-shield",
   "metadata": {},
   "source": [
    "# ML: Linear Regression\n",
    "\n",
    "So this starts with linear regression. If you want a deeper dive than what I cover in class, you can refer to [this page](https://realpython.com/linear-regression-in-python/)\n",
    "\n",
    "The exercises come from this workbook, which has somewhat helpful explanations too: https://csmastersuh.github.io/data_analysis_with_python_2020/linear_regression.html"
   ]
  },
  {
   "cell_type": "markdown",
   "id": "waiting-northeast",
   "metadata": {},
   "source": [
    "# Exercise 10: Linear Regression\n",
    "\n",
    "You'll need to make up some data for this. Don't spend too much time on this one, it's less interesting compared to the others."
   ]
  },
  {
   "cell_type": "code",
   "execution_count": 26,
   "id": "mediterranean-soviet",
   "metadata": {},
   "outputs": [
    {
     "data": {
      "text/plain": [
       "array([ 0.        ,  0.52631579,  1.05263158,  1.57894737,  2.10526316,\n",
       "        2.63157895,  3.15789474,  3.68421053,  4.21052632,  4.73684211,\n",
       "        5.26315789,  5.78947368,  6.31578947,  6.84210526,  7.36842105,\n",
       "        7.89473684,  8.42105263,  8.94736842,  9.47368421, 10.        ])"
      ]
     },
     "metadata": {},
     "output_type": "display_data"
    },
    {
     "data": {
      "text/plain": [
       "array([-0.17031628,  4.05314784,  3.26610399,  5.25404409,  3.83463036,\n",
       "        6.63198828,  7.92494233,  7.78839479,  9.33736839, 10.29422844,\n",
       "       10.10911954, 13.5449614 , 14.12127982, 14.72741391, 16.22689504,\n",
       "       17.68280593, 19.74910927, 17.42145803, 19.39813917, 19.47581525])"
      ]
     },
     "metadata": {},
     "output_type": "display_data"
    },
    {
     "data": {
      "image/png": "[encoded data removed]",
      "text/plain": [
       "<Figure size 432x288 with 1 Axes>"
      ]
     },
     "metadata": {
      "needs_background": "light"
     },
     "output_type": "display_data"
    }
   ],
   "source": [
    "n=20\n",
    "# Linearly increasing x values\n",
    "x = np.linspace(0, 10, n)\n",
    "# Wonky line of points\n",
    "y = x*2 + 1 + 1*np.random.randn(n)\n",
    "display(x, y)\n",
    "plt.scatter(x, y)\n",
    "plt.show()\n",
    "\n",
    "# Do actual linear regression here"
   ]
  },
  {
   "cell_type": "markdown",
   "id": "juvenile-pavilion",
   "metadata": {},
   "source": [
    "# Exercise 11: Mystery Data\n",
    "\n",
    "This one is far more interesting. You can download the file from [here](https://raw.githubusercontent.com/AnkS4/hy-data-analysis-with-python-2020/master/part05-e11_mystery_data/src/mystery_data.tsv). Make sure it gets the right filename!\n",
    "\n",
    "You don't need to define any functions, as they demand, although you might find that helpful to do."
   ]
  },
  {
   "cell_type": "code",
   "execution_count": null,
   "id": "entertaining-zoning",
   "metadata": {},
   "outputs": [],
   "source": []
  },
  {
   "cell_type": "markdown",
   "id": "native-synthesis",
   "metadata": {},
   "source": [
    "## Exercise 12: Coefficient of Determination\n",
    "\n",
    "Read over this entire problem, parts 1 and 2.\n",
    "\n",
    "This reuses the same `mystery_data.tsv` file as before.\n",
    "\n",
    "Again, you do not need to define their function. Just calculate the R2 scores and print them, as they direct."
   ]
  },
  {
   "cell_type": "code",
   "execution_count": null,
   "id": "going-witch",
   "metadata": {},
   "outputs": [],
   "source": []
  },
  {
   "cell_type": "markdown",
   "id": "intense-authentication",
   "metadata": {},
   "source": [
    "## Exercise 13: Cycling Weather\n",
    "\n",
    "I've already prepared the data that they require for this assignment. You can download it [here](https://gist.githubusercontent.com/acbart/466174a04e9a2505c4c25f91fc6dd4f6/raw/726865070677ec7dede17a08095624e0ea35e7cd/biking.csv).\n",
    "\n",
    "The first column is the index, you can safely ignore it. The next 7 columns are straightforward. The last few columns are locations in Finland that have measuring stations. I recommend using `Baana` as they say in the instructions for testing.\n"
   ]
  },
  {
   "cell_type": "code",
   "execution_count": null,
   "id": "bacterial-reception",
   "metadata": {},
   "outputs": [],
   "source": []
  },
  {
   "cell_type": "markdown",
   "id": "certified-murder",
   "metadata": {},
   "source": [
    "# ML Naive Bayes Classification\n",
    "\n",
    "This is the next section of the exercises, from: https://csmastersuh.github.io/data_analysis_with_python_2020/bayes.html\n",
    "\n",
    "In addition to the reading, I recommend this video: https://www.youtube.com/watch?v=CPqOCI0ahss\n",
    "\n",
    "\n",
    "## Exercise 1: Blob Classification\n",
    "\n",
    "(**OPTIONAL**) This one is very vague, and they're actually asking you to generate your own test data using the `make_blobs` function from `sklearn`'s `datasets` submodule. I've already started that work for you. But honestly if you want to skip it, I don't think it's a helpful starting question."
   ]
  },
  {
   "cell_type": "code",
   "execution_count": 9,
   "id": "following-property",
   "metadata": {},
   "outputs": [
    {
     "name": "stdout",
     "output_type": "stream",
     "text": [
      "The accuracy score is None\n",
      "array([[2.0, 2.0, 0.0, 2.5, None],\n",
      "       [2.0, 3.0, 1.0, 1.5, None],\n",
      "       [2.0, 2.0, 6.0, 3.5, None],\n",
      "       [2.0, 2.0, 3.0, 1.2, None],\n",
      "       [2.0, 4.0, 4.0, 2.7, None]], dtype=object)\n"
     ]
    }
   ],
   "source": [
    "def blob_classification(X, y):\n",
    "    # Put ML stuff here\n",
    "    pass\n",
    "\n",
    "# Create the training data and validation data\n",
    "X, y = datasets.make_blobs(100, 2, centers=2, random_state=2, cluster_std=2.5)\n",
    "# Run your ML predictions\n",
    "print(\"The accuracy score is\", blob_classification(X, y))\n",
    "# Run this on some new data\n",
    "a=np.array([[2, 2, 0, 2.5],\n",
    "            [2, 3, 1, 1.5],\n",
    "            [2, 2, 6, 3.5],\n",
    "            [2, 2, 3, 1.2],\n",
    "            [2, 4, 4, 2.7]])\n",
    "accuracies = []\n",
    "for row in a:\n",
    "    X,y = datasets.make_blobs(100, int(row[0]), centers=int(row[1]),\n",
    "                              random_state=int(row[2]), cluster_std=row[3])\n",
    "    accuracies.append(blob_classification(X, y))\n",
    "print(repr(np.hstack([a, np.array(accuracies)[:,np.newaxis]])))\n",
    "# The last column should be the categorizations"
   ]
  },
  {
   "cell_type": "markdown",
   "id": "filled-dispute",
   "metadata": {},
   "source": [
    "## Exercise 2: Plant Classification\n",
    "\n",
    "This is a much better question. The Iris dataset is a classic: https://en.wikipedia.org/wiki/Iris_flower_data_set\n",
    "\n",
    "The wikipedia page gives an example of how to load the dataset."
   ]
  },
  {
   "cell_type": "code",
   "execution_count": null,
   "id": "coral-clerk",
   "metadata": {},
   "outputs": [],
   "source": []
  },
  {
   "cell_type": "markdown",
   "id": "accessory-rachel",
   "metadata": {},
   "source": [
    "## Exercise 3: Word Classification\n",
    "\n",
    "(**Skip**)\n",
    "\n",
    "This one is too much. They give some of the data as an XML file. It's an interesting problem, and you can find the data (and solution) [here](https://github.com/AnkS4/hy-data-analysis-with-python-2020/tree/master/part06-e03_word_classification/src) if you want to tackle it, but I'm skipping it.\n"
   ]
  },
  {
   "cell_type": "code",
   "execution_count": null,
   "id": "proved-spirit",
   "metadata": {},
   "outputs": [],
   "source": []
  },
  {
   "cell_type": "markdown",
   "id": "drawn-punishment",
   "metadata": {},
   "source": [
    "## Exercise 4: Spam Detection\n",
    "\n",
    "Download [ham.txt.gz](https://github.com/AnkS4/hy-data-analysis-with-python-2020/raw/master/part06-e04_spam_detection/src/ham.txt.gz) and [spam.txt.gz](https://github.com/AnkS4/hy-data-analysis-with-python-2020/raw/master/part06-e04_spam_detection/src/spam.txt.gz).\n",
    "\n",
    "This one is much more interesting and reasonable. It requires processing some large text files, but that's actually the easiest part, as shown in the code below. The idea is that you have spam (bad emails) and ham (good emails), and you want to determine which is which. I've done similar email processing (detecting job ads for a conference) and I was impressed with how easily I could train a little data and get very good results."
   ]
  },
  {
   "cell_type": "code",
   "execution_count": 19,
   "id": "willing-logic",
   "metadata": {},
   "outputs": [
    {
     "name": "stdout",
     "output_type": "stream",
     "text": [
      "Number of spam emails loaded as strings: 500\n"
     ]
    }
   ],
   "source": [
    "import gzip\n",
    "\n",
    "# Load the spam emails as strings in a list.\n",
    "with gzip.open('spam.txt.gz', 'rb') as spam_file:\n",
    "    spam = spam_file.readlines()\n",
    "print(\"Number of spam emails loaded as strings:\", len(spam))\n",
    "\n",
    "# Now do the same thing with the `ham.txt.gz`\n",
    "\n",
    "# And then do the actual ML stuff"
   ]
  },
  {
   "cell_type": "markdown",
   "id": "sought-novelty",
   "metadata": {},
   "source": [
    "# ML Clustering\n",
    "\n",
    "This is the last section: https://csmastersuh.github.io/data_analysis_with_python_2020/clustering.html\n",
    "\n",
    "This section is one of the most interesting in my opinion. K-Means is a pretty straightforward tool, and is really worth learning how to use it."
   ]
  },
  {
   "cell_type": "markdown",
   "id": "moral-solid",
   "metadata": {},
   "source": [
    "## Exercise 5: Plant Clustering\n",
    "\n",
    "Same deal as before; use the IRIS dataset. Since this has so many parameters, it can be tricky to make a good visualization."
   ]
  },
  {
   "cell_type": "code",
   "execution_count": null,
   "id": "systematic-wildlife",
   "metadata": {},
   "outputs": [],
   "source": []
  },
  {
   "cell_type": "markdown",
   "id": "colonial-output",
   "metadata": {},
   "source": [
    "## Exercise 6: Non-convex Clusters\n",
    "\n",
    "The data for this question is [here](https://raw.githubusercontent.com/AnkS4/hy-data-analysis-with-python-2020/master/part06-e06_nonconvex_clusters/src/data.tsv).\n",
    "\n",
    "This one shows off a different clustering algorithm ([`DBSCAN`](https://scikit-learn.org/stable/modules/generated/sklearn.cluster.DBSCAN.html)), which is \"Good for data which contains clusters of similar density\". I wasn't very familiar with DBSCAN, but it does seem much better than KMeans. It doesn't require you to figure out the number of clusters, and seems to be tricked less by unusual data. [This page](https://www.kdnuggets.com/2020/04/dbscan-clustering-algorithm-machine-learning.html) was very helpful in breaking that difference down.\n",
    "\n",
    "The reference answer uses a `for` loop and `np.arange` to try `e` values from 0.05 to 0.2 in 0.05 increments, but I don't mind if you just manually try some different `e` values.\n",
    "\n",
    "Please do make a visualization with clusters colored, since I think that really highlights what we are doing!"
   ]
  },
  {
   "cell_type": "code",
   "execution_count": null,
   "id": "intermediate-finding",
   "metadata": {},
   "outputs": [],
   "source": []
  },
  {
   "cell_type": "markdown",
   "id": "primary-television",
   "metadata": {},
   "source": [
    "## Exercise 7: Binding Sites\n",
    "\n",
    "Download the [`data.seq` file](https://raw.githubusercontent.com/AnkS4/hy-data-analysis-with-python-2020/master/part06-e07_binding_sites/src/data.seq); note that it is just a plain textual data file, despite the fancy extension.\n",
    "\n",
    "They ask you to define `get_features_and_labels` to accept a filename, even though there's only one test file. Up to you if you want to hardcode the file path in or make it a flexible function.\n",
    "\n",
    "There are multiple parts here, and they ask you to compare the euclidean and hamming distance. I think it's worth thinking about - if you don't get what they mean, do ask!"
   ]
  },
  {
   "cell_type": "code",
   "execution_count": 21,
   "id": "legitimate-mathematics",
   "metadata": {},
   "outputs": [],
   "source": [
    "\n",
    "# The `find_permutation` function provided in the text, for your convenience\n",
    "def find_permutation(n_clusters, real_labels, labels):\n",
    "    permutation=[]\n",
    "    for i in range(n_clusters):\n",
    "        idx = labels == i\n",
    "        # Choose the most common label among data points in the cluster\n",
    "        new_label=scipy.stats.mode(real_labels[idx])[0][0]\n",
    "        permutation.append(new_label)\n",
    "    return permutation"
   ]
  }
 ],
 "metadata": {
  "kernelspec": {
   "display_name": "Python 3",
   "language": "python",
   "name": "python3"
  },
  "language_info": {
   "codemirror_mode": {
    "name": "ipython",
    "version": 3
   },
   "file_extension": ".py",
   "mimetype": "text/x-python",
   "name": "python",
   "nbconvert_exporter": "python",
   "pygments_lexer": "ipython3",
   "version": "3.9.1"
  }
 },
 "nbformat": 4,
 "nbformat_minor": 5
}
