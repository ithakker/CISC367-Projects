{
 "cells": [
  {
   "cell_type": "markdown",
   "id": "optical-friendly",
   "metadata": {},
   "source": [
    "# Questions\n",
    "\n",
    "Fill in your name and the link to this file on your github.\n",
    "\n",
    "* Name: Ishaan Thakker\n",
    "* Link to github URL: https://github.com/ithakker/CISC367-Projects/blob/main/Day19/ml_exercises.ipynb"
   ]
  },
  {
   "cell_type": "code",
   "execution_count": 10,
   "id": "stainless-finish",
   "metadata": {},
   "outputs": [],
   "source": [
    "import pandas as pd\n",
    "import numpy as np\n",
    "import scipy.stats as st\n",
    "import matplotlib.pyplot as plt\n",
    "import scipy\n",
    "\n",
    "from sklearn.naive_bayes import GaussianNB\n",
    "from sklearn import metrics\n",
    "from sklearn import datasets\n",
    "from sklearn.model_selection import train_test_split\n",
    "from sklearn.linear_model import LinearRegression"
   ]
  },
  {
   "cell_type": "markdown",
   "id": "herbal-commodity",
   "metadata": {},
   "source": [
    "# ML: Linear Regression\n",
    "\n",
    "So this starts with linear regression. If you want a deeper dive than what I cover in class, you can refer to [this page](https://realpython.com/linear-regression-in-python/)\n",
    "\n",
    "The exercises come from this workbook, which has somewhat helpful explanations too: https://csmastersuh.github.io/data_analysis_with_python_2020/linear_regression.html"
   ]
  },
  {
   "cell_type": "markdown",
   "id": "composite-diving",
   "metadata": {},
   "source": [
    "# Exercise 10: Linear Regression\n",
    "\n",
    "You'll need to make up some data for this. Don't spend too much time on this one, it's less interesting compared to the others."
   ]
  },
  {
   "cell_type": "code",
   "execution_count": 11,
   "id": "loved-springer",
   "metadata": {},
   "outputs": [
    {
     "data": {
      "text/plain": [
       "array([ 0.        ,  0.52631579,  1.05263158,  1.57894737,  2.10526316,\n",
       "        2.63157895,  3.15789474,  3.68421053,  4.21052632,  4.73684211,\n",
       "        5.26315789,  5.78947368,  6.31578947,  6.84210526,  7.36842105,\n",
       "        7.89473684,  8.42105263,  8.94736842,  9.47368421, 10.        ])"
      ]
     },
     "metadata": {},
     "output_type": "display_data"
    },
    {
     "data": {
      "text/plain": [
       "array([ 1.72598775,  2.47745636,  1.55107347,  4.54296117,  5.76122032,\n",
       "        6.56085429,  6.91638108,  6.82186523,  9.37716271,  9.61197775,\n",
       "       12.60009532, 12.13738848, 13.11750094, 16.29678672, 16.30565689,\n",
       "       18.56046696, 17.0186566 , 17.86586574, 21.029316  , 20.1442469 ])"
      ]
     },
     "metadata": {},
     "output_type": "display_data"
    },
    {
     "data": {
      "image/png": "[encoded data removed]",
      "text/plain": [
       "<Figure size 432x288 with 1 Axes>"
      ]
     },
     "metadata": {
      "needs_background": "light"
     },
     "output_type": "display_data"
    },
    {
     "name": "stdout",
     "output_type": "stream",
     "text": [
      "Parameters: [2.01305602] 0.9558659501940454\n",
      "Coefficient: 2.0130560167140152\n",
      "Intercept: 0.9558659501940454\n"
     ]
    },
    {
     "data": {
      "image/png": "[encoded data removed]",
      "text/plain": [
       "<Figure size 432x288 with 1 Axes>"
      ]
     },
     "metadata": {
      "needs_background": "light"
     },
     "output_type": "display_data"
    }
   ],
   "source": [
    "n=20\n",
    "# Linearly increasing x values\n",
    "x = np.linspace(0, 10, n)\n",
    "# Wonky line of points\n",
    "y = x*2 + 1 + 1*np.random.randn(n)\n",
    "display(x, y)\n",
    "plt.scatter(x, y)\n",
    "plt.show()\n",
    "\n",
    "# Do actual linear regression here\n",
    "model = LinearRegression(fit_intercept = True)\n",
    "model.fit(x[:,np.newaxis], y)\n",
    "xfit = np.linspace(0,10,n)\n",
    "yfit = model.predict(xfit[:, np.newaxis])\n",
    "plt.plot(xfit,yfit, color=\"black\")\n",
    "plt.plot(x,y, 'o')\n",
    "plt.plot(np.vstack([x,x]), np.vstack([y, model.predict(x[:, np.newaxis])]), color=\"red\");\n",
    "print(\"Parameters:\", model.coef_, model.intercept_)\n",
    "print(\"Coefficient:\", model.coef_[0])\n",
    "print(\"Intercept:\", model.intercept_)"
   ]
  },
  {
   "cell_type": "markdown",
   "id": "abandoned-practice",
   "metadata": {},
   "source": [
    "# Exercise 11: Mystery Data\n",
    "\n",
    "This one is far more interesting. You can download the file from [here](https://raw.githubusercontent.com/AnkS4/hy-data-analysis-with-python-2020/master/part05-e11_mystery_data/src/mystery_data.tsv). Make sure it gets the right filename!\n",
    "\n",
    "You don't need to define any functions, as they demand, although you might find that helpful to do."
   ]
  },
  {
   "cell_type": "code",
   "execution_count": 12,
   "id": "talented-breed",
   "metadata": {},
   "outputs": [
    {
     "name": "stdout",
     "output_type": "stream",
     "text": [
      "Coefficient of X1 is 2.9999999999999907\n",
      "Coefficient of X2 is -1.0\n",
      "Coefficient of X3 is 6.999999999999998\n",
      "Coefficient of X4 is 4.440892098500626e-16\n",
      "Coefficient of X5 is -19.999999999999996\n"
     ]
    }
   ],
   "source": [
    "data = pd.read_csv(\"https://raw.githubusercontent.com/AnkS4/hy-data-analysis-with-python-2020/master/part05-e11_mystery_data/src/mystery_data.tsv\", sep = '\\t')\n",
    "data.head()\n",
    "model = LinearRegression(fit_intercept = False)\n",
    "x = data.iloc[:, 0:5]\n",
    "y = data.iloc[:, 5]\n",
    "model.fit(x,y)\n",
    "for i, co in enumerate(model.coef_):\n",
    "    print(\"Coefficient of X\" + str(i+1) + \" is \" + str(co))"
   ]
  },
  {
   "cell_type": "markdown",
   "id": "pretty-reason",
   "metadata": {},
   "source": [
    "## Exercise 12: Coefficient of Determination\n",
    "\n",
    "Read over this entire problem, parts 1 and 2.\n",
    "\n",
    "This reuses the same `mystery_data.tsv` file as before.\n",
    "\n",
    "Again, you do not need to define their function. Just calculate the R2 scores and print them, as they direct."
   ]
  },
  {
   "cell_type": "code",
   "execution_count": 13,
   "id": "sticky-patio",
   "metadata": {},
   "outputs": [
    {
     "name": "stdout",
     "output_type": "stream",
     "text": [
      "R2-score with feature X: 1.0\n",
      "R2-score with feature X1: 0.01691827260276857\n",
      "R2-score with feature X2: 0.008964585308688933\n",
      "R2-score with feature X3: 0.08785404530656282\n",
      "R2-score with feature X4: 0.0003023708825460325\n",
      "R2-score with feature X5: 0.8679744020096123\n"
     ]
    }
   ],
   "source": [
    "model = LinearRegression(fit_intercept = True)\n",
    "x = data.iloc[:, 0:5]\n",
    "y = data.iloc[:, 5]\n",
    "model.fit(x, y)\n",
    "scores = []\n",
    "scores.append(model.score(x, y))\n",
    "for i in x:\n",
    "    model.fit(data[i].values.reshape(-1, 1), y)\n",
    "    score = model.score(data[i].values.reshape(-1, 1), y)\n",
    "    scores.append(score)\n",
    "\n",
    "print(\"R2-score with feature X: \" + str(scores[0]))\n",
    "print(\"R2-score with feature X1: \" + str(scores[1]))\n",
    "print(\"R2-score with feature X2: \" + str(scores[2]))\n",
    "print(\"R2-score with feature X3: \" + str(scores[3]))\n",
    "print(\"R2-score with feature X4: \" + str(scores[4]))\n",
    "print(\"R2-score with feature X5: \" + str(scores[5]))"
   ]
  },
  {
   "cell_type": "markdown",
   "id": "postal-express",
   "metadata": {},
   "source": [
    "## Exercise 13: Cycling Weather\n",
    "\n",
    "I've already prepared the data that they require for this assignment. You can download it [here](https://gist.githubusercontent.com/acbart/466174a04e9a2505c4c25f91fc6dd4f6/raw/726865070677ec7dede17a08095624e0ea35e7cd/biking.csv).\n",
    "\n",
    "The first column is the index, you can safely ignore it. The next 7 columns are straightforward. The last few columns are locations in Finland that have measuring stations. I recommend using `Baana` as they say in the instructions for testing.\n"
   ]
  },
  {
   "cell_type": "code",
   "execution_count": 25,
   "id": "proud-clone",
   "metadata": {},
   "outputs": [
    {
     "name": "stdout",
     "output_type": "stream",
     "text": [
      "Measuring station: Baana\n",
      "Precipitation: -52.179548960018785\n",
      "Snow Depth: -32.93766860685709\n",
      "Temperature: 169.24225037357726\n",
      "Score 0.5750246253469835\n"
     ]
    }
   ],
   "source": [
    "data1 = pd.read_csv(\"https://gist.githubusercontent.com/acbart/466174a04e9a2505c4c25f91fc6dd4f6/raw/726865070677ec7dede17a08095624e0ea35e7cd/biking.csv\")\n",
    "data1.head()\n",
    "reg = LinearRegression(fit_intercept = True)\n",
    "X = data1[[\"Precipitation amount (mm)\", \"Snow depth (cm)\", \"Air temperature (degC)\"]]\n",
    "Y = data1[[\"Baana\"]]\n",
    "reg.fit(X, Y)\n",
    "coefficient = reg.coef_[0]\n",
    "score = reg.score(X, Y)\n",
    "print(\"Measuring station: Baana\")\n",
    "print(\"Precipitation: \" + str(coefficient[0]))\n",
    "print(\"Snow Depth: \" + str(coefficient[1]))\n",
    "print(\"Temperature: \" + str(coefficient[2]))\n",
    "print(\"Score \" + str(score))"
   ]
  },
  {
   "cell_type": "markdown",
   "id": "israeli-membership",
   "metadata": {},
   "source": [
    "# ML Naive Bayes Classification\n",
    "\n",
    "This is the next section of the exercises, from: https://csmastersuh.github.io/data_analysis_with_python_2020/bayes.html\n",
    "\n",
    "In addition to the reading, I recommend this video: https://www.youtube.com/watch?v=CPqOCI0ahss\n",
    "\n",
    "\n",
    "## Exercise 1: Blob Classification\n",
    "\n",
    "(**OPTIONAL**) This one is very vague, and they're actually asking you to generate your own test data using the `make_blobs` function from `sklearn`'s `datasets` submodule. I've already started that work for you. But honestly if you want to skip it, I don't think it's a helpful starting question."
   ]
  },
  {
   "cell_type": "code",
   "execution_count": null,
   "id": "chubby-colors",
   "metadata": {},
   "outputs": [],
   "source": [
    "def blob_classification(X, y):\n",
    "    # Put ML stuff here\n",
    "    pass\n",
    "\n",
    "# Create the training data and validation data\n",
    "X, y = datasets.make_blobs(100, 2, centers=2, random_state=2, cluster_std=2.5)\n",
    "# Run your ML predictions\n",
    "print(\"The accuracy score is\", blob_classification(X, y))\n",
    "# Run this on some new data\n",
    "a=np.array([[2, 2, 0, 2.5],\n",
    "            [2, 3, 1, 1.5],\n",
    "            [2, 2, 6, 3.5],\n",
    "            [2, 2, 3, 1.2],\n",
    "            [2, 4, 4, 2.7]])\n",
    "accuracies = []\n",
    "for row in a:\n",
    "    X,y = datasets.make_blobs(100, int(row[0]), centers=int(row[1]),\n",
    "                              random_state=int(row[2]), cluster_std=row[3])\n",
    "    accuracies.append(blob_classification(X, y))\n",
    "print(repr(np.hstack([a, np.array(accuracies)[:,np.newaxis]])))\n",
    "# The last column should be the categorizations"
   ]
  },
  {
   "cell_type": "markdown",
   "id": "italian-might",
   "metadata": {},
   "source": [
    "## Exercise 2: Plant Classification\n",
    "\n",
    "This is a much better question. The Iris dataset is a classic: https://en.wikipedia.org/wiki/Iris_flower_data_set\n",
    "\n",
    "The wikipedia page gives an example of how to load the dataset."
   ]
  },
  {
   "cell_type": "code",
   "execution_count": 30,
   "id": "wired-prevention",
   "metadata": {},
   "outputs": [
    {
     "data": {
      "text/plain": [
       "0.9666666666666667"
      ]
     },
     "execution_count": 30,
     "metadata": {},
     "output_type": "execute_result"
    }
   ],
   "source": [
    "from sklearn.datasets import load_iris\n",
    "iris = load_iris()\n",
    "x_train, x_test, y_train, y_test = train_test_split(iris.data, iris.target, test_size = 0.2, random_state = 0)\n",
    "model = GaussianNB()\n",
    "model.fit(x_train, y_train)\n",
    "y_fitted = model.predict(x_test)\n",
    "metrics.accuracy_score(y_test, y_fitted)"
   ]
  },
  {
   "cell_type": "markdown",
   "id": "outside-tutorial",
   "metadata": {},
   "source": [
    "## Exercise 3: Word Classification\n",
    "\n",
    "(**Skip**)\n",
    "\n",
    "This one is too much. They give some of the data as an XML file. It's an interesting problem, and you can find the data (and solution) [here](https://github.com/AnkS4/hy-data-analysis-with-python-2020/tree/master/part06-e03_word_classification/src) if you want to tackle it, but I'm skipping it.\n"
   ]
  },
  {
   "cell_type": "code",
   "execution_count": null,
   "id": "emotional-turning",
   "metadata": {},
   "outputs": [],
   "source": []
  },
  {
   "cell_type": "markdown",
   "id": "included-meaning",
   "metadata": {},
   "source": [
    "## Exercise 4: Spam Detection\n",
    "\n",
    "Download [ham.txt.gz](https://github.com/AnkS4/hy-data-analysis-with-python-2020/raw/master/part06-e04_spam_detection/src/ham.txt.gz) and [spam.txt.gz](https://github.com/AnkS4/hy-data-analysis-with-python-2020/raw/master/part06-e04_spam_detection/src/spam.txt.gz).\n",
    "\n",
    "This one is much more interesting and reasonable. It requires processing some large text files, but that's actually the easiest part, as shown in the code below. The idea is that you have spam (bad emails) and ham (good emails), and you want to determine which is which. I've done similar email processing (detecting job ads for a conference) and I was impressed with how easily I could train a little data and get very good results."
   ]
  },
  {
   "cell_type": "code",
   "execution_count": 37,
   "id": "expensive-welsh",
   "metadata": {},
   "outputs": [
    {
     "name": "stdout",
     "output_type": "stream",
     "text": [
      "Number of spam emails loaded as strings: 500\n",
      "Number of ham emails loaded as strings: 2500\n",
      "Score:  0.9\n",
      "Size:  750\n",
      "Misclassified points:  75\n"
     ]
    }
   ],
   "source": [
    "import gzip\n",
    "from sklearn.feature_extraction.text import CountVectorizer\n",
    "from sklearn.model_selection import train_test_split\n",
    "from sklearn.naive_bayes import MultinomialNB\n",
    "from sklearn.metrics import accuracy_score\n",
    "\n",
    "# Load the spam emails as strings in a list.\n",
    "with gzip.open('spam.txt.gz', 'rb') as spam_file:\n",
    "    spam = spam_file.readlines()\n",
    "print(\"Number of spam emails loaded as strings:\", len(spam))\n",
    "\n",
    "# Now do the same thing with the `ham.txt.gz`\n",
    "with gzip.open('ham.txt.gz', 'rb') as ham_file:\n",
    "    ham = ham_file.readlines()\n",
    "print(\"Number of ham emails loaded as strings:\", len(ham))\n",
    "\n",
    "# And then do the actual ML stuff\n",
    "X = spam + ham\n",
    "vectorizer = CountVectorizer()\n",
    "X = vectorizer.fit_transform(X).toarray()\n",
    "y = np.zeros(len(X))\n",
    "y[len(ham):] = 1\n",
    "X_train, X_test, y_train, y_test = train_test_split(X, y, random_state=0, train_size=0.75)\n",
    "model = MultinomialNB()\n",
    "model.fit(X_train, y_train)\n",
    "y_pred = model.predict(X_test)\n",
    "\n",
    "print(\"Score: \" , accuracy_score(y_test, y_pred))\n",
    "print(\"Size: \", len(X_test))\n",
    "print(\"Misclassified points: \", (y_test != y_pred).sum())"
   ]
  },
  {
   "cell_type": "markdown",
   "id": "executive-shareware",
   "metadata": {},
   "source": [
    "# ML Clustering\n",
    "\n",
    "This is the last section: https://csmastersuh.github.io/data_analysis_with_python_2020/clustering.html\n",
    "\n",
    "This section is one of the most interesting in my opinion. K-Means is a pretty straightforward tool, and is really worth learning how to use it."
   ]
  },
  {
   "cell_type": "markdown",
   "id": "portable-uruguay",
   "metadata": {},
   "source": [
    "## Exercise 5: Plant Clustering\n",
    "\n",
    "Same deal as before; use the IRIS dataset. Since this has so many parameters, it can be tricky to make a good visualization."
   ]
  },
  {
   "cell_type": "code",
   "execution_count": 41,
   "id": "female-tennis",
   "metadata": {},
   "outputs": [
    {
     "data": {
      "text/plain": [
       "<matplotlib.collections.PathCollection at 0x1eee9177cd0>"
      ]
     },
     "execution_count": 41,
     "metadata": {},
     "output_type": "execute_result"
    },
    {
     "data": {
      "image/png": "[encoded data removed]",
      "text/plain": [
       "<Figure size 432x288 with 1 Axes>"
      ]
     },
     "metadata": {
      "needs_background": "light"
     },
     "output_type": "display_data"
    }
   ],
   "source": [
    "import scipy\n",
    "from sklearn.datasets import load_iris\n",
    "from sklearn.metrics import accuracy_score\n",
    "from sklearn.cluster import KMeans\n",
    "\n",
    "iris = load_iris()\n",
    "data = iris['data']\n",
    "target = iris['target']\n",
    "model = KMeans(3)\n",
    "model.fit(data)\n",
    "plt.scatter(data[:,0],data[:,1], c = model.labels_)"
   ]
  },
  {
   "cell_type": "markdown",
   "id": "solved-thousand",
   "metadata": {},
   "source": [
    "## Exercise 6: Non-convex Clusters\n",
    "\n",
    "The data for this question is [here](https://raw.githubusercontent.com/AnkS4/hy-data-analysis-with-python-2020/master/part06-e06_nonconvex_clusters/src/data.tsv).\n",
    "\n",
    "This one shows off a different clustering algorithm ([`DBSCAN`](https://scikit-learn.org/stable/modules/generated/sklearn.cluster.DBSCAN.html)), which is \"Good for data which contains clusters of similar density\". I wasn't very familiar with DBSCAN, but it does seem much better than KMeans. It doesn't require you to figure out the number of clusters, and seems to be tricked less by unusual data. [This page](https://www.kdnuggets.com/2020/04/dbscan-clustering-algorithm-machine-learning.html) was very helpful in breaking that difference down.\n",
    "\n",
    "The reference answer uses a `for` loop and `np.arange` to try `e` values from 0.05 to 0.2 in 0.05 increments, but I don't mind if you just manually try some different `e` values.\n",
    "\n",
    "Please do make a visualization with clusters colored, since I think that really highlights what we are doing!"
   ]
  },
  {
   "cell_type": "code",
   "execution_count": 44,
   "id": "enhanced-geology",
   "metadata": {},
   "outputs": [
    {
     "data": {
      "image/png": "[encoded data removed]",
      "text/plain": [
       "<Figure size 432x288 with 1 Axes>"
      ]
     },
     "metadata": {
      "needs_background": "light"
     },
     "output_type": "display_data"
    }
   ],
   "source": [
    "from sklearn.cluster import DBSCAN\n",
    "from sklearn.metrics import accuracy_score\n",
    "\n",
    "def find_permutation(n_clusters, real_labels, labels):\n",
    "    permutation=[]\n",
    "    for i in range(n_clusters):\n",
    "        idx = labels == i\n",
    "        # Choose the most common label among data points in the cluster\n",
    "        new_label=scipy.stats.mode(real_labels[idx])[0][0]\n",
    "        permutation.append(new_label)\n",
    "    return permutation\n",
    "\n",
    "df = pd.read_csv(\"https://raw.githubusercontent.com/AnkS4/hy-data-analysis-with-python-2020/master/part06-e06_nonconvex_clusters/src/data.tsv\", sep = '\\t')\n",
    "X = df[[\"X1\",\"X2\"]]\n",
    "y = df[\"y\"]\n",
    "results = []\n",
    "for e in np.arange(0.05, 0.2, 0.05):\n",
    "    model = DBSCAN(e)\n",
    "    model.fit(X)\n",
    "    idx = model.labels_ == -1\n",
    "    outliers = np.sum(idx)\n",
    "    clusters = max(model.labels_) + 1\n",
    "    if clusters == len(y.unique()):\n",
    "        permutation = find_permutation(clusters, y, model.labels_)\n",
    "        score = accuracy_score(y[~idx], [permutation[label] for label in model.labels_[~idx]])\n",
    "    else:\n",
    "        score = np.nan\n",
    "    results.append([e, score, clusters, outliers])\n",
    "pd.DataFrame(data = results, columns = [\"eps\", \"Score\", \"Clusters\", \"Outliers\"], dtype = \"float64\")\n",
    "plt.scatter(df['X1'], df[\"X2\"], c = model.labels_)\n",
    "plt.show()\n"
   ]
  },
  {
   "cell_type": "markdown",
   "id": "confirmed-hungary",
   "metadata": {},
   "source": [
    "## Exercise 7: Binding Sites\n",
    "\n",
    "Download the [`data.seq` file](https://raw.githubusercontent.com/AnkS4/hy-data-analysis-with-python-2020/master/part06-e07_binding_sites/src/data.seq); note that it is just a plain textual data file, despite the fancy extension.\n",
    "\n",
    "They ask you to define `get_features_and_labels` to accept a filename, even though there's only one test file. Up to you if you want to hardcode the file path in or make it a flexible function.\n",
    "\n",
    "There are multiple parts here, and they ask you to compare the euclidean and hamming distance. I think it's worth thinking about - if you don't get what they mean, do ask!"
   ]
  },
  {
   "cell_type": "code",
   "execution_count": 48,
   "id": "australian-dispute",
   "metadata": {},
   "outputs": [
    {
     "name": "stdout",
     "output_type": "stream",
     "text": [
      "Euclidean Accuracy:  0.9895\n",
      "Hamming Accuracy:  0.9985\n"
     ]
    }
   ],
   "source": [
    "from sklearn.cluster import AgglomerativeClustering\n",
    "from sklearn.metrics import accuracy_score\n",
    "from sklearn.metrics import pairwise_distances\n",
    "\n",
    "from matplotlib import pyplot as plt\n",
    "\n",
    "import seaborn as sns\n",
    "sns.set(color_codes=True)\n",
    "import scipy.spatial as sp\n",
    "import scipy.cluster.hierarchy as hc\n",
    "\n",
    "import scipy\n",
    "\n",
    "# The `find_permutation` function provided in the text, for your convenience\n",
    "def find_permutation(n_clusters, real_labels, labels):\n",
    "    permutation=[]\n",
    "    for i in range(n_clusters):\n",
    "        idx = labels == i\n",
    "        # Choose the most common label among data points in the cluster\n",
    "        new_label=scipy.stats.mode(real_labels[idx])[0][0]\n",
    "        permutation.append(new_label)\n",
    "    return permutation\n",
    "\n",
    "def toint(x):\n",
    "    return 'ACGT'.find(x)\n",
    "\n",
    "def get_features_and_labels(filename):\n",
    "    df = pd.read_csv(filename, sep=\"\\t\")\n",
    "    X = [[toint(j) for j in i] for i in df[\"X\"]]\n",
    "    return (np.array(X), df.y) #df[[\"y\"]]\n",
    "\n",
    "def plot(distances, method='average', affinity='euclidean'):\n",
    "    mylinkage = hc.linkage(sp.distance.squareform(distances), method=method)\n",
    "    g=sns.clustermap(distances, row_linkage=mylinkage, col_linkage=mylinkage )\n",
    "    g.fig.suptitle(f\"Hierarchical clustering using {method} linkage and {affinity} affinity\")\n",
    "    plt.show()\n",
    "    \n",
    "def cluster_euclidean(filename):\n",
    "    X, y = get_features_and_labels(filename)\n",
    "    model = AgglomerativeClustering(linkage=\"average\", affinity=\"euclidean\").fit(X)\n",
    "    permutation = find_permutation(2, y, model.labels_)\n",
    "    return accuracy_score(y, [permutation[label] for label in model.labels_])\n",
    "\n",
    "def cluster_hamming(filename):\n",
    "    X, y = get_features_and_labels(filename)\n",
    "    d = pairwise_distances(X, metric=\"hamming\")\n",
    "    model = AgglomerativeClustering(linkage=\"average\", affinity=\"precomputed\").fit(d)\n",
    "    permutation = find_permutation(2, y, model.labels_)\n",
    "    return accuracy_score(y, [permutation[label] for label in model.labels_])\n",
    "\n",
    "print(\"Euclidean Accuracy: \", cluster_euclidean(\"number7.txt\"))\n",
    "print(\"Hamming Accuracy: \", cluster_hamming(\"number7.txt\"))"
   ]
  }
 ],
 "metadata": {
  "kernelspec": {
   "display_name": "Python 3",
   "language": "python",
   "name": "python3"
  },
  "language_info": {
   "codemirror_mode": {
    "name": "ipython",
    "version": 3
   },
   "file_extension": ".py",
   "mimetype": "text/x-python",
   "name": "python",
   "nbconvert_exporter": "python",
   "pygments_lexer": "ipython3",
   "version": "3.9.1"
  }
 },
 "nbformat": 4,
 "nbformat_minor": 5
}
