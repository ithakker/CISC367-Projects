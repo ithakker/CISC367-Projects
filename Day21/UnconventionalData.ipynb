{
 "cells": [
  {
   "cell_type": "markdown",
   "id": "boxed-birmingham",
   "metadata": {},
   "source": [
    "# Unconventional Data"
   ]
  },
  {
   "cell_type": "markdown",
   "id": "frozen-soldier",
   "metadata": {},
   "source": [
    "<em>Ishaan Thakker</em>"
   ]
  },
  {
   "cell_type": "markdown",
   "id": "frequent-flashing",
   "metadata": {},
   "source": [
    "### PDF Extractor"
   ]
  },
  {
   "cell_type": "code",
   "execution_count": 8,
   "id": "behavioral-partnership",
   "metadata": {},
   "outputs": [],
   "source": [
    "import fitz\n",
    "import pandas as pd\n",
    "from collections import Counter"
   ]
  },
  {
   "cell_type": "code",
   "execution_count": 9,
   "id": "heated-burke",
   "metadata": {},
   "outputs": [
    {
     "data": {
      "text/plain": [
       "the         2640\n",
       ".           2323\n",
       "of          1580\n",
       "to          1384\n",
       "and         1174\n",
       "a            977\n",
       "in           694\n",
       "is           612\n",
       "for          524\n",
       "that         507\n",
       "be           431\n",
       "data         407\n",
       "The          361\n",
       "are          349\n",
       "with         337\n",
       "as           307\n",
       "students     259\n",
       "can          257\n",
       "this         247\n",
       "course       233\n",
       "it           222\n",
       "or           221\n",
       "on           210\n",
       "an           190\n",
       "their        182\n",
       "was          176\n",
       "Data         171\n",
       "by           171\n",
       "not          168\n",
       "I            155\n",
       "dtype: int64"
      ]
     },
     "execution_count": 9,
     "metadata": {},
     "output_type": "execute_result"
    }
   ],
   "source": [
    "doc = fitz.open('dissertation.pdf')\n",
    "text = \"\".join(page.get_text(\"text\") for page in doc)\n",
    "words = pd.Series(text.split())\n",
    "words.value_counts().head(30)"
   ]
  },
  {
   "cell_type": "code",
   "execution_count": 10,
   "id": "cathedral-wages",
   "metadata": {},
   "outputs": [
    {
     "data": {
      "text/html": [
       "<div>\n",
       "<style scoped>\n",
       "    .dataframe tbody tr th:only-of-type {\n",
       "        vertical-align: middle;\n",
       "    }\n",
       "\n",
       "    .dataframe tbody tr th {\n",
       "        vertical-align: top;\n",
       "    }\n",
       "\n",
       "    .dataframe thead th {\n",
       "        text-align: right;\n",
       "    }\n",
       "</style>\n",
       "<table border=\"1\" class=\"dataframe\">\n",
       "  <thead>\n",
       "    <tr style=\"text-align: right;\">\n",
       "      <th></th>\n",
       "      <th>0</th>\n",
       "      <th>1</th>\n",
       "      <th>2</th>\n",
       "      <th>3</th>\n",
       "      <th>4</th>\n",
       "    </tr>\n",
       "  </thead>\n",
       "  <tbody>\n",
       "    <tr>\n",
       "      <th>0</th>\n",
       "      <td>Fall</td>\n",
       "      <td>2020 Fall Term</td>\n",
       "      <td></td>\n",
       "      <td>2021 Fall Term</td>\n",
       "      <td></td>\n",
       "    </tr>\n",
       "    <tr>\n",
       "      <th>1</th>\n",
       "      <td>First Day of Classes</td>\n",
       "      <td>Tue</td>\n",
       "      <td>September 1</td>\n",
       "      <td>Tue</td>\n",
       "      <td>August 31</td>\n",
       "    </tr>\n",
       "    <tr>\n",
       "      <th>2</th>\n",
       "      <td>Labor Day - Classes Will Meet</td>\n",
       "      <td>Mon</td>\n",
       "      <td>September 7</td>\n",
       "      <td></td>\n",
       "      <td></td>\n",
       "    </tr>\n",
       "    <tr>\n",
       "      <th>3</th>\n",
       "      <td>Labor Day - Classes Suspended</td>\n",
       "      <td></td>\n",
       "      <td></td>\n",
       "      <td>Mon</td>\n",
       "      <td>September 6</td>\n",
       "    </tr>\n",
       "    <tr>\n",
       "      <th>4</th>\n",
       "      <td>Last day to add or drop courses</td>\n",
       "      <td>Tue</td>\n",
       "      <td>September 15</td>\n",
       "      <td>Tue</td>\n",
       "      <td>September 14</td>\n",
       "    </tr>\n",
       "    <tr>\n",
       "      <th>...</th>\n",
       "      <td>...</td>\n",
       "      <td>...</td>\n",
       "      <td>...</td>\n",
       "      <td>...</td>\n",
       "      <td>...</td>\n",
       "    </tr>\n",
       "    <tr>\n",
       "      <th>70</th>\n",
       "      <td>Summer Session - 10 week - classes begin</td>\n",
       "      <td>Mon</td>\n",
       "      <td>June 7</td>\n",
       "      <td>Mon</td>\n",
       "      <td>June 6</td>\n",
       "    </tr>\n",
       "    <tr>\n",
       "      <th>71</th>\n",
       "      <td>Last day to add or drop courses</td>\n",
       "      <td>Wed</td>\n",
       "      <td>June 16</td>\n",
       "      <td>Wed</td>\n",
       "      <td>June 15</td>\n",
       "    </tr>\n",
       "    <tr>\n",
       "      <th>72</th>\n",
       "      <td>Last day to change registration or withdraw fr...</td>\n",
       "      <td>Thur</td>\n",
       "      <td>July 15</td>\n",
       "      <td>Thur</td>\n",
       "      <td>July 14</td>\n",
       "    </tr>\n",
       "    <tr>\n",
       "      <th>73</th>\n",
       "      <td>Final Exams</td>\n",
       "      <td>Fri</td>\n",
       "      <td>August 13</td>\n",
       "      <td>Fri</td>\n",
       "      <td>August 12</td>\n",
       "    </tr>\n",
       "    <tr>\n",
       "      <th>74</th>\n",
       "      <td>Deadline for 10-week grades to be posted to UDSIS</td>\n",
       "      <td>Tue</td>\n",
       "      <td>August 17</td>\n",
       "      <td>Tue</td>\n",
       "      <td>August 16</td>\n",
       "    </tr>\n",
       "  </tbody>\n",
       "</table>\n",
       "<p>75 rows × 5 columns</p>\n",
       "</div>"
      ],
      "text/plain": [
       "                                                    0               1  \\\n",
       "0                                                Fall  2020 Fall Term   \n",
       "1                                First Day of Classes             Tue   \n",
       "2                       Labor Day - Classes Will Meet             Mon   \n",
       "3                       Labor Day - Classes Suspended                   \n",
       "4                     Last day to add or drop courses             Tue   \n",
       "..                                                ...             ...   \n",
       "70           Summer Session - 10 week - classes begin             Mon   \n",
       "71                    Last day to add or drop courses             Wed   \n",
       "72  Last day to change registration or withdraw fr...            Thur   \n",
       "73                                        Final Exams             Fri   \n",
       "74  Deadline for 10-week grades to be posted to UDSIS             Tue   \n",
       "\n",
       "               2               3             4  \n",
       "0                 2021 Fall Term                \n",
       "1    September 1             Tue     August 31  \n",
       "2    September 7                                \n",
       "3                            Mon   September 6  \n",
       "4   September 15             Tue  September 14  \n",
       "..           ...             ...           ...  \n",
       "70        June 7             Mon        June 6  \n",
       "71       June 16             Wed       June 15  \n",
       "72       July 15            Thur       July 14  \n",
       "73     August 13             Fri     August 12  \n",
       "74     August 17             Tue     August 16  \n",
       "\n",
       "[75 rows x 5 columns]"
      ]
     },
     "execution_count": 10,
     "metadata": {},
     "output_type": "execute_result"
    }
   ],
   "source": [
    "import camelot\n",
    "tables = camelot.read_pdf('calendar.pdf')\n",
    "df = tables[0].df\n",
    "df"
   ]
  },
  {
   "cell_type": "code",
   "execution_count": 11,
   "id": "strong-product",
   "metadata": {},
   "outputs": [
    {
     "data": {
      "text/plain": [
       "the        45\n",
       "to         37\n",
       "you        34\n",
       "and        23\n",
       "your       19\n",
       "a          18\n",
       "have       14\n",
       "in         12\n",
       "If         11\n",
       "MinGW      10\n",
       "install    10\n",
       "⇒          10\n",
       "then        9\n",
       "choose      9\n",
       "Eclipse     9\n",
       "on          8\n",
       "You         8\n",
       "2.          8\n",
       "1.          8\n",
       "Step        8\n",
       "or          7\n",
       "In          7\n",
       "step        7\n",
       "may         7\n",
       "C++         7\n",
       "are         7\n",
       "3.          7\n",
       "Under       6\n",
       "is          6\n",
       "select      5\n",
       "dtype: int64"
      ]
     },
     "execution_count": 11,
     "metadata": {},
     "output_type": "execute_result"
    }
   ],
   "source": [
    "doc = fitz.open('InstallingEclipseInstructions.pdf')\n",
    "text = \"\".join(page.get_text(\"text\") for page in doc)\n",
    "words = pd.Series(text.split())\n",
    "words.value_counts().head(30)"
   ]
  },
  {
   "cell_type": "markdown",
   "id": "collective-indiana",
   "metadata": {},
   "source": [
    "### Reddit Image Transcriber"
   ]
  },
  {
   "cell_type": "code",
   "execution_count": 14,
   "id": "built-decade",
   "metadata": {},
   "outputs": [
    {
     "name": "stdout",
     "output_type": "stream",
     "text": [
      "['https://i.imgur.com/QOVhelr.png', 'https://i.imgur.com/QOVhelr.png', 'https://i.redd.it/u75r9fqi2vy61.png', 'https://i.redd.it/u75r9fqi2vy61.png', 'https://i.redd.it/l6vcz7p81wy61.png', 'https://i.redd.it/l6vcz7p81wy61.png', 'https://i.redd.it/s06l1vt9twy61.png', 'https://i.redd.it/s06l1vt9twy61.png', 'https://i.redd.it/y9009ob8ovy61.png', 'https://i.redd.it/y9009ob8ovy61.png', 'https://i.redd.it/55qilwvohvy61.png', 'https://i.redd.it/55qilwvohvy61.png', 'https://i.redd.it/pfcbiyfuawy61.png', 'https://i.redd.it/pfcbiyfuawy61.png', 'https://i.redd.it/tdvg49k9wwy61.png', 'https://i.redd.it/tdvg49k9wwy61.png', 'https://i.redd.it/5a19t4945wy61.png', 'https://i.redd.it/5a19t4945wy61.png', 'https://i.redd.it/k81hb4tklxy61.png', 'https://i.redd.it/k81hb4tklxy61.png']\n"
     ]
    }
   ],
   "source": [
    "import requests\n",
    "import json\n",
    "\n",
    "# Set a User Agent to avoid being blocked\n",
    "data = requests.get(\"https://www.reddit.com/r/comics/.json\", headers = {'User-agent': 'your bot 0.1'}).json()\n",
    "\n",
    "with open(\"reddit.json\", \"w\") as json_file:\n",
    "    json.dump(data, json_file)\n",
    "\n",
    "picture_list = []\n",
    "for item in range(25):\n",
    "    index = data[\"data\"][\"children\"][item][\"data\"]\n",
    "    for each in index:\n",
    "        if isinstance(index[each],str):\n",
    "            if \".png\" in index[each]:\n",
    "                picture_list.append(index[each])\n",
    "print(picture_list)"
   ]
  },
  {
   "cell_type": "code",
   "execution_count": 13,
   "id": "together-edwards",
   "metadata": {},
   "outputs": [
    {
     "name": "stdout",
     "output_type": "stream",
     "text": [
      "THE      32\n",
      "OF       14\n",
      "|        10\n",
      "YOU      10\n",
      "you       8\n",
      "         ..\n",
      "THAT      2\n",
      "HAIL      2\n",
      "house     2\n",
      "®         2\n",
      "three     2\n",
      "Length: 259, dtype: int64\n"
     ]
    }
   ],
   "source": [
    "import pytesseract\n",
    "from PIL import Image\n",
    "import io as io\n",
    "\n",
    "lines = []\n",
    "for url in picture_list:\n",
    "    response = requests.get(url)\n",
    "    img = Image.open(io.BytesIO(response.content))\n",
    "    text = pytesseract.image_to_string(img)\n",
    "    lines.append(text)\n",
    "    \n",
    "string = \"\"\n",
    "for text in lines:\n",
    "    string += text\n",
    "words = pd.Series(string.split())\n",
    "print(words.value_counts())"
   ]
  },
  {
   "cell_type": "code",
   "execution_count": 16,
   "id": "western-snake",
   "metadata": {},
   "outputs": [
    {
     "name": "stdout",
     "output_type": "stream",
     "text": [
      "['— — ”', 'bl u', 'pa', '® +', 'oo © — oo', '— — ”', 'bl u', 'pa', '® +', 'oo © — oo', 'the', 'called', 'they want sir', 'is this their shoes really', 'good use of our time travel telephone', 'look at those shoestho', '~ ————_ @', 'noores', 'leughiegnow.com', '[ anemia ak ” eee natir', 'the', 'called', 'they want sir', 'is this their shoes really', 'good use of our time travel telephone', 'look at those shoestho', '~ ————_ @', 'noores', 'leughiegnow.com', '[ anemia ak ” eee natir', 'liar liar the old rite pants on fire', 'has been invoked', 'in accordance with the severity of thine hidden trangressions', 'didst', 'thou consume the pizza\\\\yon maiden saved for her lunch', 'liar liar the old rite pants on fire', 'has been invoked', 'in accordance with the severity of thine hidden trangressions', 'didst', 'thou consume the pizza\\\\yon maiden saved for her lunch', 'the backyard', 'the side', 'yard', 'ive been all kinds of places', 'the driveway have you been to the drive- way area', 'you are massing', 'out', \"do n't even know what\", 'should travel more', 'poorly drawn lines the backyard', 'the side', 'yard', 'ive been all kinds of places', 'the driveway have you been to the drive- way area', 'you are massing', 'out', \"do n't even know what\", 'should travel more', 'poorly drawn lines we', 'the bronze likewise', 'the blades dwarves of the of the silver seeker burning mountains', 'dwarves are at your will lend you our disposal', 'dear friends', 'swords in this upcoming battle', 'the advanced weaponry of the an xnoyn ny', 'dwarves will surely lead you to', 'all hail the techno—monolith/', '—s |', 'freaking hate those guys', 'know', 'right', 'super weird', 'we', 'the bronze likewise', 'the blades dwarves of the of the silver seeker burning mountains', 'dwarves are at your will lend you our disposal', 'dear friends', 'swords in this upcoming battle', 'the advanced weaponry of the an xnoyn ny', 'dwarves will surely lead you to', 'all hail the techno—monolith/', '—s |', 'freaking hate those guys', 'know', 'right', 'super weird', 'sir you neeo', 'choose tacob', 'right', 'who will holo off the one of', 'has to enemy so', 'can stay behind escape safely', 'mayoking sir you neeo', 'choose tacob', 'right', 'who will holo off the one of', 'has to enemy so', 'can stay behind escape safely', 'mayoking look what', 'that', 'got', 'bonsas7 nottsa palm tree', 'look what', 'that', 'got', 'bonsas7 nottsa palm tree', 'news', 'you', 'pal- scarecrowbar.com', 'arre', 'ooo', '@ scarecrowbar', 'news', 'you', 'pal- scarecrowbar.com', 'arre', 'ooo', '@ scarecrowbar', 'excuse', \"ma'am\", 'oh', \"friend's parents house\", 'scape', 'seekin /', 'old girls', 'ina house', 'favorable home life ...', 'lelir cina', '} hie', 'zelulels', 'ears parents', 'brian ls', 'excuse', \"ma'am\", 'oh', \"friend's parents house\", 'scape', 'seekin /', 'old girls', 'ina house', 'favorable home life ...', 'lelir cina', '} hie', 'zelulels', 'ears parents', 'brian ls']\n"
     ]
    }
   ],
   "source": [
    "from textblob import TextBlob\n",
    "\n",
    "blob = TextBlob(string)\n",
    "print(blob.noun_phrases)"
   ]
  },
  {
   "cell_type": "code",
   "execution_count": 17,
   "id": "after-fountain",
   "metadata": {},
   "outputs": [
    {
     "data": {
      "text/plain": [
       "has         4\n",
       "have        4\n",
       "how         4\n",
       "parents     4\n",
       "liar        4\n",
       "right       4\n",
       "house       4\n",
       "look        4\n",
       "at          4\n",
       "those       4\n",
       "is          6\n",
       "will        6\n",
       "dwarves     6\n",
       "—           6\n",
       "our         6\n",
       "this        6\n",
       "all         6\n",
       "travel      6\n",
       "n't         6\n",
       "are         6\n",
       "want        6\n",
       "been        6\n",
       "a           8\n",
       "that        8\n",
       "i           8\n",
       "do          8\n",
       "to         12\n",
       "of         14\n",
       "you        20\n",
       "the        34\n",
       "dtype: int64"
      ]
     },
     "execution_count": 17,
     "metadata": {},
     "output_type": "execute_result"
    }
   ],
   "source": [
    "pd.Series(blob.word_counts).sort_values().tail(30)"
   ]
  },
  {
   "cell_type": "code",
   "execution_count": 18,
   "id": "tutorial-occurrence",
   "metadata": {},
   "outputs": [
    {
     "name": "stdout",
     "output_type": "stream",
     "text": [
      "-0.029329004329004323\n"
     ]
    }
   ],
   "source": [
    "blob = TextBlob(text)\n",
    "print(blob.sentiment.polarity)"
   ]
  },
  {
   "cell_type": "markdown",
   "id": "resistant-change",
   "metadata": {},
   "source": [
    "### Face Finding"
   ]
  },
  {
   "cell_type": "code",
   "execution_count": 26,
   "id": "corrected-husband",
   "metadata": {},
   "outputs": [],
   "source": [
    "import numpy as np\n",
    "import cv2\n",
    "\n",
    "import numpy as np\n",
    "import cv2\n",
    "\n",
    "images = ['happygroupofpeople', 'messi-ronaldo', 'threepeople']\n",
    "\n",
    "face_cascade = cv2.CascadeClassifier('haarcascades/haarcascade_frontalface_default.xml')\n",
    "eye_cascade = cv2.CascadeClassifier('haarcascades/haarcascade_eye.xml')\n",
    "\n",
    "for image in images:\n",
    "    img = cv2.imread('images/' + image ) '.jpg')\n",
    "    gray = cv2.cvtColor(img, cv2.COLOR_BGR2GRAY)\n",
    "\n",
    "    faces = face_cascade.detectMultiScale(gray, 1.3, 5)\n",
    "    for (x,y,w,h) in faces:\n",
    "        img = cv2.rectangle(img,(x,y),(x+w,y+h),(255,0,0),2)\n",
    "        roi_gray = gray[y:y+h, x:x+w]\n",
    "        roi_color = img[y:y+h, x:x+w]\n",
    "        eyes = eye_cascade.detectMultiScale(roi_gray)\n",
    "        for (ex,ey,ew,eh) in eyes:\n",
    "            cv2.rectangle(roi_color,(ex,ey),(ex+ew,ey+eh),(0,255,0),2)\n",
    "    cv2.imwrite(\"images/\" + image + \"_out.jpg\", img)\n",
    "# cv2.imshow('img',img)\n",
    "# cv2.waitKey(0)\n",
    "# cv2.destroyAllWindows()"
   ]
  }
 ],
 "metadata": {
  "kernelspec": {
   "display_name": "Python 3",
   "language": "python",
   "name": "python3"
  },
  "language_info": {
   "codemirror_mode": {
    "name": "ipython",
    "version": 3
   },
   "file_extension": ".py",
   "mimetype": "text/x-python",
   "name": "python",
   "nbconvert_exporter": "python",
   "pygments_lexer": "ipython3",
   "version": "3.9.1"
  }
 },
 "nbformat": 4,
 "nbformat_minor": 5
}
